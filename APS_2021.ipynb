{
  "nbformat": 4,
  "nbformat_minor": 0,
  "metadata": {
    "colab": {
      "name": "APS_2021",
      "provenance": [],
      "include_colab_link": true
    },
    "kernelspec": {
      "name": "python3",
      "display_name": "Python 3"
    },
    "language_info": {
      "name": "python"
    }
  },
  "cells": [
    {
      "cell_type": "markdown",
      "metadata": {
        "id": "view-in-github",
        "colab_type": "text"
      },
      "source": [
        "<a href=\"https://colab.research.google.com/github/tamylis2209/massa/blob/main/APS_2021.ipynb\" target=\"_parent\"><img src=\"https://colab.research.google.com/assets/colab-badge.svg\" alt=\"Open In Colab\"/></a>"
      ]
    },
    {
      "cell_type": "code",
      "metadata": {
        "id": "v_hRTJgU2M-Y",
        "colab": {
          "base_uri": "https://localhost:8080/"
        },
        "outputId": "a788361f-fc0e-4e02-fddb-f2d267deab60"
      },
      "source": [
        "%%writefile Teste.c\n",
        "\n",
        "//QUICK SORT\n",
        "\n",
        "#include <stdio.h>\n",
        "#include <stdlib.h>\n",
        " \n",
        "// Define uma constante\n",
        "// Define a constant\n",
        "#define MAX 10\n",
        " \n",
        "// Protótipo da função de ordenação\n",
        "// Ordination function prototype\n",
        "void quick_sort(int *a, int left, int right);\n",
        " \n",
        "// Função main\n",
        "// Main Function\n",
        "int main(int argc, char** argv)\n",
        "{\n",
        " int i, vet[MAX];\n",
        " \n",
        " // Lê MAX ou 10 valores\n",
        " // Read MAX or 10 values\n",
        " for(i = 0; i < MAX; i++)\n",
        " {\n",
        "  printf(\"Digite um valor: \");\n",
        "  scanf(\"%d\", &vet[i]);\n",
        " }\n",
        " \n",
        " // Ordena os valores\n",
        " // Order values\n",
        " quick_sort(vet, 0, MAX - 1);\n",
        " \n",
        " // Imprime os valores ordenados\n",
        " // Print values in order ascendant\n",
        " printf(\"\\nValores ordenados\");\n",
        " for(i = 0; i < MAX; i++)\n",
        " {\n",
        "  printf(\"%d\\n\", vet[i]);\n",
        " }\n",
        " system(\"pause\");\n",
        " return 0;\n",
        "}\n",
        " \n",
        "// Função de Ordenação por Seleção\n",
        "// Quick sort function\n",
        "void quick_sort(int *a, int left, int right) {\n",
        "    int i, j, x, y;\n",
        "     \n",
        "    i = left;\n",
        "    j = right;\n",
        "    x = a[(left + right) / 2];\n",
        "     \n",
        "    while(i <= j) {\n",
        "        while(a[i] < x && i < right) {\n",
        "            i++;\n",
        "        }\n",
        "        while(a[j] > x && j > left) {\n",
        "            j--;\n",
        "        }\n",
        "        if(i <= j) {\n",
        "            y = a[i];\n",
        "            a[i] = a[j];\n",
        "            a[j] = y;\n",
        "            i++;\n",
        "            j--;\n",
        "        }\n",
        "    }\n",
        "     \n",
        "    if(j > left) {\n",
        "        quick_sort(a, left, j);\n",
        "    }\n",
        "    if(i < right) {\n",
        "        quick_sort(a, i, right);\n",
        "    }\n",
        "}"
      ],
      "execution_count": 5,
      "outputs": [
        {
          "output_type": "stream",
          "name": "stdout",
          "text": [
            "Overwriting Teste.c\n"
          ]
        }
      ]
    },
    {
      "cell_type": "code",
      "metadata": {
        "id": "O0J4qvbsmkTb"
      },
      "source": [
        "%%bash\n",
        "\n",
        "gcc Teste.c -o Teste"
      ],
      "execution_count": null,
      "outputs": []
    },
    {
      "cell_type": "code",
      "metadata": {
        "id": "nY4gdV1Tmqaw"
      },
      "source": [
        "%%bash\n",
        "./Teste"
      ],
      "execution_count": null,
      "outputs": []
    },
    {
      "cell_type": "code",
      "metadata": {
        "colab": {
          "base_uri": "https://localhost:8080/",
          "height": 130
        },
        "id": "VwUinHNA2zj5",
        "outputId": "92ef2e39-668f-4438-80e4-bf4b3a5833c3"
      },
      "source": [
        "// Código Bubble Sort"
      ],
      "execution_count": null,
      "outputs": [
        {
          "output_type": "error",
          "ename": "SyntaxError",
          "evalue": "ignored",
          "traceback": [
            "\u001b[0;36m  File \u001b[0;32m\"<ipython-input-1-c9ac536d07f1>\"\u001b[0;36m, line \u001b[0;32m1\u001b[0m\n\u001b[0;31m    (/, Código, Bubble, Sort)\u001b[0m\n\u001b[0m     ^\u001b[0m\n\u001b[0;31mSyntaxError\u001b[0m\u001b[0;31m:\u001b[0m invalid syntax\n"
          ]
        }
      ]
    },
    {
      "cell_type": "code",
      "metadata": {
        "id": "R-S0iOQ922cK"
      },
      "source": [
        "// Código Heap SOrt\n",
        "// Socorro!! KKKKKK\n",
        "\n",
        "\n",
        "\n"
      ],
      "execution_count": null,
      "outputs": []
    }
  ]
}